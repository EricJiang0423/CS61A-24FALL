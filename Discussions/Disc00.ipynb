{
 "cells": [
  {
   "cell_type": "markdown",
   "metadata": {},
   "source": [
    "Ignore Part 1 and 3\n",
    "# Part 2: Solve a problem together [30 minutes]\n",
    "Imagine you can call only the following three functions:\n",
    "\n",
    "- f(x): Subtracts one from an integer x\n",
    "- g(x): Doubles an integer x\n",
    "- h(x, y): Concatenates the digits of two different positive integers x and y. For example, h(789, 12) evaluates to 78912 - and h(12, 789) evaluates to 12789.\n",
    "- Definition: A small expression is a call expression that contains only f, g, h, the number 5, and parentheses. All of these can be repeated. For example, h(g(5), f(f(5))) is a small expression that evaluates to 103.\n",
    "\n",
    "What's the shortest small expression you can find that evaluates to 2024?"
   ]
  },
  {
   "cell_type": "code",
   "execution_count": null,
   "metadata": {},
   "outputs": [
    {
     "name": "stdout",
     "output_type": "stream",
     "text": [
      "g(h(g(5),g(g(f(f(5)))))) -> 2024 has 7 calls and 24 characters.\n",
      "g(g(f(f(f(f(h(5,g(5)))))))) -> 2024 has 8 calls and 27 characters.\n",
      "g(h(g(5),g(f(f(g(f(5))))))) -> 2024 has 8 calls and 27 characters.\n",
      "f(h(g(g(5)),h(f(f(f(5))),5))) -> 2024 has 8 calls and 29 characters.\n",
      "f(h(f(f(f(h(g(g(5)),5)))),5)) -> 2024 has 8 calls and 29 characters.\n",
      "f(h(f(f(h(g(g(5)),f(5)))),5)) -> 2024 has 8 calls and 29 characters.\n",
      "f(h(f(h(g(g(5)),f(f(5)))),5)) -> 2024 has 8 calls and 29 characters.\n",
      "f(h(h(g(g(5)),f(f(f(5)))),5)) -> 2024 has 8 calls and 29 characters.\n",
      "h(g(g(5)),g(g(g(f(f(5)))))) -> 2024 has 8 calls and 27 characters.\n",
      "h(g(g(5)),f(h(f(f(f(5))),5))) -> 2024 has 8 calls and 29 characters.\n",
      "h(g(g(5)),h(f(f(f(5))),f(5))) -> 2024 has 8 calls and 29 characters.\n",
      "h(f(f(f(h(g(g(5)),5)))),f(5)) -> 2024 has 8 calls and 29 characters.\n",
      "h(f(f(h(g(g(5)),f(5)))),f(5)) -> 2024 has 8 calls and 29 characters.\n",
      "h(f(h(g(g(5)),f(f(5)))),f(5)) -> 2024 has 8 calls and 29 characters.\n",
      "h(h(g(g(5)),f(f(f(5)))),f(5)) -> 2024 has 8 calls and 29 characters.\n"
     ]
    }
   ],
   "source": [
    "def f(x):\n",
    "    return x - 1\n",
    "def g(x):\n",
    "    return 2 * x\n",
    "def h(x, y):\n",
    "    return int(str(x) + str(y))\n",
    "\n",
    "class Number:\n",
    "    def __init__(self, value):\n",
    "        self.value = value\n",
    "\n",
    "    def __str__(self):\n",
    "        return str(self.value)\n",
    "\n",
    "    def calls(self):\n",
    "        return 0\n",
    "\n",
    "    def chars(self):\n",
    "        return 1\n",
    "\n",
    "class Call:\n",
    "    \"\"\"A call expression.\"\"\"\n",
    "    def __init__(self, f, operands):\n",
    "        self.f = f\n",
    "        self.operands = operands\n",
    "        self.value = f(*[e.value for e in operands])\n",
    "\n",
    "    def __str__(self):\n",
    "        return f'{self.f.__name__}({\",\".join(map(str, self.operands))})'\n",
    "\n",
    "    def calls(self):\n",
    "        return 1 + sum(o.calls() for o in self.operands)\n",
    "\n",
    "    def chars(self):\n",
    "        return 3 + sum(o.chars() for o in self.operands) + (len(self.operands) - 1)\n",
    "\n",
    "def smalls(n):\n",
    "    if n == 0:\n",
    "        yield Number(5)\n",
    "    else:\n",
    "        for operand in smalls(n-1):\n",
    "            yield Call(f, [operand])\n",
    "            yield Call(g, [operand])\n",
    "        for k in range(n):\n",
    "            for first in smalls(k):\n",
    "                for second in smalls(n-k-1):\n",
    "                    if first.value > 0 and second.value > 0:\n",
    "                        yield Call(h, [first, second])\n",
    "\n",
    "def print_smallest():\n",
    "    result = []\n",
    "    for i in range(9):\n",
    "        result.extend([e for e in smalls(i) if e.value == 2024])\n",
    "\n",
    "    for e in result:\n",
    "        assert eval(str(e)) == e.value\n",
    "        print(e, '->', e.value, 'has', e.calls(), 'calls and', e.chars(), 'characters.')\n",
    "\n",
    "print_smallest()\n",
    "# Code by Sample Code"
   ]
  },
  {
   "cell_type": "markdown",
   "metadata": {},
   "source": []
  }
 ],
 "metadata": {
  "kernelspec": {
   "display_name": "base",
   "language": "python",
   "name": "python3"
  },
  "language_info": {
   "codemirror_mode": {
    "name": "ipython",
    "version": 3
   },
   "file_extension": ".py",
   "mimetype": "text/x-python",
   "name": "python",
   "nbconvert_exporter": "python",
   "pygments_lexer": "ipython3",
   "version": "3.12.7"
  }
 },
 "nbformat": 4,
 "nbformat_minor": 2
}
